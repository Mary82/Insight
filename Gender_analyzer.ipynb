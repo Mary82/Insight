{
 "cells": [
  {
   "cell_type": "code",
   "execution_count": 1,
   "metadata": {
    "scrolled": false
   },
   "outputs": [
    {
     "name": "stderr",
     "output_type": "stream",
     "text": [
      "/Applications/anaconda/lib/python2.7/site-packages/sklearn/cross_validation.py:44: DeprecationWarning: This module was deprecated in version 0.18 in favor of the model_selection module into which all the refactored classes and functions are moved. Also note that the interface of the new CV iterators are different from that of this module. This module will be removed in 0.20.\n",
      "  \"This module will be removed in 0.20.\", DeprecationWarning)\n",
      "/Applications/anaconda/lib/python2.7/site-packages/sklearn/grid_search.py:43: DeprecationWarning: This module was deprecated in version 0.18 in favor of the model_selection module into which all the refactored classes and functions are moved. This module will be removed in 0.20.\n",
      "  DeprecationWarning)\n"
     ]
    }
   ],
   "source": [
    "import os\n",
    "import codecs\n",
    "import numpy as np\n",
    "import pandas as pd\n",
    "import re\n",
    "import string\n",
    "from scipy import sparse\n",
    "from nltk.corpus import stopwords\n",
    "from nltk.stem.porter import PorterStemmer\n",
    "from nltk.sentiment.vader import SentimentIntensityAnalyzer as SIA\n",
    "import matplotlib.pyplot as plt\n",
    "from sklearn.grid_search import GridSearchCV\n",
    "from sklearn.pipeline import Pipeline\n",
    "from sklearn.feature_extraction.text import TfidfVectorizer\n",
    "from sklearn.linear_model import LogisticRegression\n",
    "from sklearn.linear_model import LogisticRegressionCV\n",
    "from sklearn.metrics import confusion_matrix\n",
    "from sklearn.externals import joblib \n",
    "from sklearn.preprocessing import LabelEncoder\n",
    "from sklearn import metrics\n",
    "from sklearn.cross_validation import cross_val_score\n",
    "import itertools\n",
    "from sklearn.model_selection import learning_curve\n",
    "from sklearn.model_selection import ShuffleSplit\n",
    "from collections import Counter\n",
    "from wordcloud import WordCloud\n",
    "import tweepy\n",
    "from tweepy import OAuthHandler,AppAuthHandler, Cursor\n",
    "import json\n",
    "\n",
    "\n",
    "\n",
    "%matplotlib inline  \n",
    "\n",
    "\n",
    "\n"
   ]
  },
  {
   "cell_type": "markdown",
   "metadata": {},
   "source": [
    "### Initialize the twitter API"
   ]
  },
  {
   "cell_type": "code",
   "execution_count": 2,
   "metadata": {
    "collapsed": true
   },
   "outputs": [],
   "source": [
    "consumer_key = 'your consumer_key'\n",
    "consumer_secret = 'your consumer_secret'\n",
    "\n",
    "access_token = 'your access_token'\n",
    "access_secret = 'your access_secret'\n",
    "\n",
    "\n",
    "auth = AppAuthHandler(consumer_key,consumer_secret)\n",
    "#Making wait_on_rate_limit TRUE, so that the code will wait and continue when limit is reached.\n",
    "api = tweepy.API(auth,wait_on_rate_limit=True,wait_on_rate_limit_notify=True)\n",
    "\n",
    "#Making sure Authorization was obtained.\n",
    "if (not api):\n",
    "    print (\"Can't Authorize.\")\n",
    "    sys.exit(-1)"
   ]
  },
  {
   "cell_type": "markdown",
   "metadata": {},
   "source": [
    "### Preprocessing  the tweets, cleaning, tokenizing, removing the stop words \n"
   ]
  },
  {
   "cell_type": "code",
   "execution_count": 3,
   "metadata": {
    "collapsed": true
   },
   "outputs": [],
   "source": [
    "\n",
    "def normalize_text(s):\n",
    "    s = s.encode('ascii',errors='ignore')\n",
    "    s = str(s.encode(\"utf-8\").strip())\n",
    "    s = s.lower()    \n",
    "    # remove punctuation that is not word-internal (not in [a-zA-Z0-9_])\n",
    "    s = re.sub('\\s\\W',' ',s)\n",
    "    s = re.sub('\\W\\s',' ',s)    \n",
    "    # remove double space\n",
    "    s = re.sub('\\s+',' ',s)\n",
    "    \n",
    "    return s\n",
    "\n",
    "\n",
    "\n",
    "\n",
    "def tweet_cleaner(tweet):\n",
    "    tweet = tweet.lower()   \n",
    "    #Convert www.* or https?://* to URL\n",
    "    tweet = re.sub('((www\\.[^\\s]+)|(https?://[^\\s]+))','URL',tweet)    \n",
    "    \n",
    "    #Convert @username to AT_USER\n",
    "    tweet = re.sub('@[^\\s]+','AT_USER',tweet)\n",
    "    \n",
    "    #Replace # with HASH_TAG\n",
    "    tweet = re.sub('#', 'HASH_TAG ', tweet)\n",
    "    \n",
    "    #Temporarily store emoticons\n",
    "    emoticons = re.findall('(?::|;|=)(?:-)?(?:\\)|\\(|D|P)', tweet)\n",
    "    \n",
    "    #Remove all non-word charactersand add the emoticons to \n",
    "    # the end of the processed document string\n",
    "    # remove emoticon nose to be consistent\n",
    "    tweet = re.sub('[\\W]+', ' ', tweet) + ' ' + \\\n",
    "            ' '.join(emoticons).replace('-', '')\n",
    "    \n",
    "    #trim\n",
    "    tweet = tweet.strip('\\'\"')\n",
    "    return tweet\n",
    "\n",
    "\n",
    "# Remove stop words and tokenize tweet, No stemming\n",
    "def simple_tokenizer(tweet):\n",
    "    tweet = tweet_cleaner(tweet)\n",
    "    tw = [w for w in tweet.split() if w not in stop]\n",
    "    return tw\n",
    "\n",
    "# Tokenize stemmed words\n",
    "def porter_tokenizer(tweet):\n",
    "    tweet = tweet_cleaner(tweet)\n",
    "    tw = [porter.stem(w) for w in tweet.split() if w not in stop]\n",
    "    return tw\n",
    "\n",
    "# Count the number of stop words in tweet\n",
    "def count_stop(text):\n",
    "    return len([w for w in text.lower().split() if w in stop ])\n",
    "\n",
    "# Count the number of words in tweet\n",
    "def no_of_word(text):\n",
    "    return len(text.split())\n",
    "\n",
    "# Calculate the ratio of Upper case letters in tweet\n",
    "def upper(text):\n",
    "    l = len(filter(lambda x: x in string.uppercase, text)) + len(filter(lambda x: x in string.lowercase, text))\n",
    "    return float(len(filter(lambda x: x in string.uppercase, text)))/l\n",
    "         \n",
    "    \n",
    "    \n",
    "\n",
    "\n",
    "\n"
   ]
  },
  {
   "cell_type": "markdown",
   "metadata": {},
   "source": [
    "### Reading the data and some data exploration"
   ]
  },
  {
   "cell_type": "code",
   "execution_count": 4,
   "metadata": {},
   "outputs": [
    {
     "data": {
      "text/html": [
       "<div>\n",
       "<style>\n",
       "    .dataframe thead tr:only-child th {\n",
       "        text-align: right;\n",
       "    }\n",
       "\n",
       "    .dataframe thead th {\n",
       "        text-align: left;\n",
       "    }\n",
       "\n",
       "    .dataframe tbody tr th {\n",
       "        vertical-align: top;\n",
       "    }\n",
       "</style>\n",
       "<table border=\"1\" class=\"dataframe\">\n",
       "  <thead>\n",
       "    <tr style=\"text-align: right;\">\n",
       "      <th></th>\n",
       "      <th>_unit_id</th>\n",
       "      <th>gender</th>\n",
       "      <th>gender:confidence</th>\n",
       "      <th>text</th>\n",
       "    </tr>\n",
       "  </thead>\n",
       "  <tbody>\n",
       "    <tr>\n",
       "      <th>0</th>\n",
       "      <td>815719226</td>\n",
       "      <td>male</td>\n",
       "      <td>1.0000</td>\n",
       "      <td>Robbie E Responds To Critics After Win Against...</td>\n",
       "    </tr>\n",
       "    <tr>\n",
       "      <th>1</th>\n",
       "      <td>815719227</td>\n",
       "      <td>male</td>\n",
       "      <td>1.0000</td>\n",
       "      <td>ÛÏIt felt like they were my friends and I was...</td>\n",
       "    </tr>\n",
       "    <tr>\n",
       "      <th>2</th>\n",
       "      <td>815719228</td>\n",
       "      <td>male</td>\n",
       "      <td>0.6625</td>\n",
       "      <td>i absolutely adore when louis starts the songs...</td>\n",
       "    </tr>\n",
       "    <tr>\n",
       "      <th>3</th>\n",
       "      <td>815719229</td>\n",
       "      <td>male</td>\n",
       "      <td>1.0000</td>\n",
       "      <td>Hi @JordanSpieth - Looking at the url - do you...</td>\n",
       "    </tr>\n",
       "    <tr>\n",
       "      <th>4</th>\n",
       "      <td>815719230</td>\n",
       "      <td>female</td>\n",
       "      <td>1.0000</td>\n",
       "      <td>Watching Neighbours on Sky+ catching up with t...</td>\n",
       "    </tr>\n",
       "  </tbody>\n",
       "</table>\n",
       "</div>"
      ],
      "text/plain": [
       "    _unit_id  gender  gender:confidence  \\\n",
       "0  815719226    male             1.0000   \n",
       "1  815719227    male             1.0000   \n",
       "2  815719228    male             0.6625   \n",
       "3  815719229    male             1.0000   \n",
       "4  815719230  female             1.0000   \n",
       "\n",
       "                                                text  \n",
       "0  Robbie E Responds To Critics After Win Against...  \n",
       "1  ÛÏIt felt like they were my friends and I was...  \n",
       "2  i absolutely adore when louis starts the songs...  \n",
       "3  Hi @JordanSpieth - Looking at the url - do you...  \n",
       "4  Watching Neighbours on Sky+ catching up with t...  "
      ]
     },
     "execution_count": 4,
     "metadata": {},
     "output_type": "execute_result"
    }
   ],
   "source": [
    "porter = PorterStemmer()\n",
    "stop = stopwords.words('english')\n",
    "\n",
    "\n",
    "# This data set has around 20K tweets which labeled as organization, male and female by humans. Since there is no \n",
    "#information about the genders and people should guess the gender based on name and profile picture, there is also \n",
    "# confidence_level for genders.\n",
    "\n",
    "\n",
    "tw_df = pd.read_csv(\"gender-classifier-DFE-791531.csv\", encoding='latin1')\n",
    "tw_df = tw_df[['_unit_id','gender','gender:confidence','text']]\n",
    "tw_df.head()\n",
    "\n",
    "\n",
    "\n"
   ]
  },
  {
   "cell_type": "code",
   "execution_count": 5,
   "metadata": {
    "scrolled": true
   },
   "outputs": [
    {
     "data": {
      "image/png": "[encoded data removed]",
      "text/plain": [
       "<matplotlib.figure.Figure at 0x110b7b410>"
      ]
     },
     "metadata": {},
     "output_type": "display_data"
    }
   ],
   "source": [
    "# genders' confidence level distribution\n",
    "\n",
    "gend_conf = tw_df['gender:confidence'].plot(kind='hist', bins = 10)\n",
    "plt.show()\n",
    "\n"
   ]
  },
  {
   "cell_type": "code",
   "execution_count": 6,
   "metadata": {},
   "outputs": [
    {
     "data": {
      "image/png": "[encoded data removed]",
      "text/plain": [
       "<matplotlib.figure.Figure at 0x11341a3d0>"
      ]
     },
     "metadata": {},
     "output_type": "display_data"
    }
   ],
   "source": [
    "lable_count = tw_df.gender.value_counts().plot(kind='bar')"
   ]
  },
  {
   "cell_type": "code",
   "execution_count": 7,
   "metadata": {
    "scrolled": true
   },
   "outputs": [
    {
     "data": {
      "image/png": "[encoded data removed]",
      "text/plain": [
       "<matplotlib.figure.Figure at 0x11343e110>"
      ]
     },
     "metadata": {},
     "output_type": "display_data"
    }
   ],
   "source": [
    "# Only tweets with the lable of female/male and confidence level > .9 are considered\n",
    "tw_df = tw_df[tw_df['gender:confidence']>.9]\n",
    "tw_df = tw_df[(tw_df['gender']=='female') |(tw_df['gender']=='male')]\n",
    "gend_count = tw_df.gender.value_counts().plot(kind='bar')\n",
    "\n"
   ]
  },
  {
   "cell_type": "code",
   "execution_count": 8,
   "metadata": {},
   "outputs": [],
   "source": [
    "tw_df['text_norm'] = tw_df['text'].apply(normalize_text)\n",
    "tw_df['cleanTweet'] = tw_df['text'].apply(tweet_cleaner)\n",
    "\n",
    "sid = SIA()\n",
    "# add sentiment analysis to data\n",
    "tw_df['pol'] = tw_df['text'].apply(lambda x:sid.polarity_scores(x)['compound'])\n",
    "tw_df['words'] = tw_df['text'].apply(no_of_word)\n",
    "\n"
   ]
  },
  {
   "cell_type": "code",
   "execution_count": 9,
   "metadata": {
    "scrolled": true
   },
   "outputs": [
    {
     "name": "stdout",
     "output_type": "stream",
     "text": [
      "10023\n",
      "female    5368\n",
      "male      4655\n",
      "Name: gender, dtype: int64\n"
     ]
    }
   ],
   "source": [
    "print len(tw_df)\n",
    "print tw_df.gender.value_counts()\n",
    "# The data set is almost balanced"
   ]
  },
  {
   "cell_type": "markdown",
   "metadata": {},
   "source": [
    "### Divide the data into the train set and the test set (80%-20%)"
   ]
  },
  {
   "cell_type": "code",
   "execution_count": 10,
   "metadata": {},
   "outputs": [],
   "source": [
    "train = tw_df.sample(frac=0.80,random_state=200)\n",
    "test = tw_df.drop(train.index)\n",
    "\n",
    "encoder = LabelEncoder()\n",
    "y = encoder.fit_transform(tw_df['gender'])\n",
    "\n",
    "\n",
    "X_train = train.text.values\n",
    "y_train = encoder.fit_transform(train.gender.values)\n",
    "X_test = test.text.values\n",
    "y_test = encoder.transform(test.gender.values)"
   ]
  },
  {
   "cell_type": "markdown",
   "metadata": {},
   "source": [
    "### Make a pipeline for GridSearch to find the best parameters"
   ]
  },
  {
   "cell_type": "code",
   "execution_count": 25,
   "metadata": {},
   "outputs": [
    {
     "name": "stdout",
     "output_type": "stream",
     "text": [
      "{'vect__ngram_range': (1, 2), 'vect__tokenizer': <function simple_tokenizer at 0x110b95488>, 'clf__penalty': 'l2', 'clf__C': 1.0}\n",
      "0.618608131704\n"
     ]
    }
   ],
   "source": [
    "tfidf = TfidfVectorizer(strip_accents=None, lowercase=True, preprocessor=None, max_features = 8000)\n",
    "param_grid = [\n",
    "    {'vect__ngram_range': [(1,1),(1,2)],\n",
    "     'vect__tokenizer': [porter_tokenizer, simple_tokenizer],\n",
    "     'clf__penalty': ['l1', 'l2'],\n",
    "     'clf__C': [1.0, 10.0, 50.0, 100.0]}\n",
    "] \n",
    "\n",
    "lr_tfidf = Pipeline([ ('vect', tfidf), ('clf', LogisticRegression(random_state=0)) ])\n",
    "\n",
    "gs_lr_tfidf = GridSearchCV(lr_tfidf, param_grid, scoring='accuracy',\n",
    "                           cv=5, verbose=0, n_jobs=-1)\n",
    "\n",
    "gs_lr_tfidf.fit(X_train, y_train)\n",
    "print(gs_lr_tfidf.best_params_)\n",
    "print(gs_lr_tfidf.best_score_)"
   ]
  },
  {
   "cell_type": "code",
   "execution_count": 15,
   "metadata": {},
   "outputs": [
    {
     "name": "stdout",
     "output_type": "stream",
     "text": [
      "Test Accuracy: 0.634\n"
     ]
    }
   ],
   "source": [
    "clf = gs_lr_tfidf.best_estimator_\n",
    "print('Test Accuracy: %.3f' % clf.score(X_test, y_test))"
   ]
  },
  {
   "cell_type": "markdown",
   "metadata": {},
   "source": [
    "### Build the NLP model based on the best parameters & GridSearch for best \"c\" parameters for logistic regression"
   ]
  },
  {
   "cell_type": "code",
   "execution_count": 16,
   "metadata": {},
   "outputs": [],
   "source": [
    "TF = TfidfVectorizer(strip_accents=None, lowercase=True, preprocessor=None, \n",
    "                     tokenizer = porter_tokenizer,stop_words = None, ngram_range = (1,1),use_idf = True)\n",
    "lg_cv = LogisticRegressionCV(Cs=[x for x in np.arange(.1,2,.4) ], cv=5, class_weight='balanced', n_jobs=-1)\n"
   ]
  },
  {
   "cell_type": "code",
   "execution_count": 17,
   "metadata": {
    "collapsed": true
   },
   "outputs": [],
   "source": [
    "X_tfidf = TF.fit_transform(X_train)\n",
    "X_other = train[['pol','words']]\n",
    "# add snetiment analysis and number of words as feature\n",
    "X = sparse.hstack([X_tfidf, X_other])"
   ]
  },
  {
   "cell_type": "code",
   "execution_count": 18,
   "metadata": {},
   "outputs": [
    {
     "name": "stdout",
     "output_type": "stream",
     "text": [
      "{1: array([[ 0.63029925,  0.64339152,  0.6340399 ,  0.63029925,  0.62718204],\n",
      "       [ 0.58541147,  0.6084788 ,  0.59975062,  0.59476309,  0.58665835],\n",
      "       [ 0.60286783,  0.61533666,  0.61471322,  0.60785536,  0.60349127],\n",
      "       [ 0.58702433,  0.61509669,  0.61197754,  0.60449158,  0.60262009],\n",
      "       [ 0.60948222,  0.62258266,  0.62694947,  0.63069245,  0.6338116 ]])}\n",
      "0.779496133699\n",
      "[ 0.5]\n"
     ]
    }
   ],
   "source": [
    "lg_cv.fit(X, y_train)\n",
    "print(lg_cv.scores_)\n",
    "print(lg_cv.score(X, y_train))\n",
    "print(lg_cv.C_)"
   ]
  },
  {
   "cell_type": "code",
   "execution_count": null,
   "metadata": {
    "scrolled": true
   },
   "outputs": [],
   "source": []
  },
  {
   "cell_type": "code",
   "execution_count": 32,
   "metadata": {},
   "outputs": [],
   "source": [
    "lg_clf = LogisticRegression(C = 0.5)"
   ]
  },
  {
   "cell_type": "code",
   "execution_count": 33,
   "metadata": {},
   "outputs": [
    {
     "name": "stdout",
     "output_type": "stream",
     "text": [
      "0.632917705736\n"
     ]
    }
   ],
   "source": [
    "lg_clf.fit(X, y_train)\n",
    "test_other = test[['pol','words']]\n",
    "test_tf = TF.transform(X_test)\n",
    "Xtest = sparse.hstack([test_tf, test_other])\n",
    "print(lg_clf.score(Xtest,y_test))\n",
    "y_pred = lg_clf.predict(Xtest)\n",
    "\n"
   ]
  },
  {
   "cell_type": "code",
   "execution_count": 31,
   "metadata": {},
   "outputs": [
    {
     "data": {
      "text/plain": [
       "0.63291770573566086"
      ]
     },
     "execution_count": 31,
     "metadata": {},
     "output_type": "execute_result"
    }
   ],
   "source": []
  },
  {
   "cell_type": "code",
   "execution_count": 34,
   "metadata": {
    "scrolled": true
   },
   "outputs": [
    {
     "name": "stdout",
     "output_type": "stream",
     "text": [
      "             precision    recall  f1-score   support\n",
      "\n",
      "          0       0.65      0.72      0.68      1095\n",
      "          1       0.61      0.53      0.57       910\n",
      "\n",
      "avg / total       0.63      0.63      0.63      2005\n",
      "\n"
     ]
    }
   ],
   "source": [
    "print(metrics.classification_report(y_test, y_pred))"
   ]
  },
  {
   "cell_type": "code",
   "execution_count": 28,
   "metadata": {},
   "outputs": [],
   "source": [
    "\n",
    "\n",
    "def plot_learning_curve(estimator, title, X, y, ylim=None, cv=None,\n",
    "                        n_jobs=1, train_sizes=np.linspace(.1, 1.0, 5)):\n",
    "    \"\"\"\n",
    "    Generate a simple plot of the test and training learning curve.\n",
    "\n",
    "    Parameters\n",
    "    ----------\n",
    "    estimator : predictor\n",
    "\n",
    "    title : Title for the chart.\n",
    "\n",
    "    cv : int, cross-validation generator or an iterable, can be used here.\n",
    "    n_jobs : integer, optional\n",
    "        Number of jobs to run in parallel (default 1).\n",
    "    \"\"\"\n",
    "    plt.figure()\n",
    "    plt.rcParams.update({'font.size': 12})\n",
    "    plt.title(title)\n",
    "    if ylim is not None:\n",
    "        plt.ylim(*ylim)\n",
    "    plt.xlabel(\"Training examples\")\n",
    "    plt.ylabel(\"Score\")\n",
    "    train_sizes, train_scores, test_scores = learning_curve(\n",
    "        estimator, X, y, cv=cv, n_jobs=n_jobs, train_sizes=train_sizes)\n",
    "    train_scores_mean = np.mean(train_scores, axis=1)\n",
    "    train_scores_std = np.std(train_scores, axis=1)\n",
    "    test_scores_mean = np.mean(test_scores, axis=1)\n",
    "    test_scores_std = np.std(test_scores, axis=1)\n",
    "    plt.grid()\n",
    "\n",
    "    plt.fill_between(train_sizes, train_scores_mean - train_scores_std,\n",
    "                     train_scores_mean + train_scores_std, alpha=0.1,\n",
    "                     color=\"r\")\n",
    "    plt.fill_between(train_sizes, test_scores_mean - test_scores_std,\n",
    "                     test_scores_mean + test_scores_std, alpha=0.1, color=\"g\")\n",
    "    plt.plot(train_sizes, train_scores_mean, 'o-', color=\"r\",\n",
    "             label=\"Training score\")\n",
    "    plt.plot(train_sizes, test_scores_mean, 'o-', color=\"g\",\n",
    "             label=\"Cross-validation score\")\n",
    "\n",
    "    plt.legend(loc=\"best\")\n",
    "    return plt"
   ]
  },
  {
   "cell_type": "code",
   "execution_count": 35,
   "metadata": {},
   "outputs": [
    {
     "data": {
      "text/plain": [
       "<module 'matplotlib.pyplot' from '/Applications/anaconda/lib/python2.7/site-packages/matplotlib/pyplot.pyc'>"
      ]
     },
     "execution_count": 35,
     "metadata": {},
     "output_type": "execute_result"
    },
    {
     "data": {
      "image/png": "[encoded data removed]",
      "text/plain": [
       "<matplotlib.figure.Figure at 0x11741d2d0>"
      ]
     },
     "metadata": {},
     "output_type": "display_data"
    }
   ],
   "source": [
    "title = \"Learning Curves\"\n",
    "# Cross validation with 100 iterations to get smoother mean test and train\n",
    "# score curves, each time with 20% data randomly selected as a validation set.\n",
    "cv = ShuffleSplit(n_splits=100, test_size=0.2, random_state=0)\n",
    "plot_learning_curve(lg_clf, title, X, y_train, ylim=(0.5, 1.), cv=cv, n_jobs=-1)"
   ]
  },
  {
   "cell_type": "code",
   "execution_count": 36,
   "metadata": {},
   "outputs": [],
   "source": [
    "def plot_ROC(model, title, xTest, yTest):\n",
    "    \"\"\"\n",
    "    This function calculates and plots the ROC curve \n",
    "    for a test set.\n",
    "    \"\"\"\n",
    "    \n",
    "    probs = model.predict_proba(xTest)\n",
    "    preds = probs[:,1]\n",
    "    fpr, tpr, threshold = metrics.roc_curve(yTest, preds)\n",
    "    roc_auc = metrics.auc(fpr, tpr)\n",
    "\n",
    "    plt.figure(figsize=(5,5))\n",
    "    plt.rcParams.update({'font.size': 14})\n",
    "    plt.grid()\n",
    "    plt.title(title,fontsize=16)\n",
    "    plt.plot(fpr, tpr, 'b', label = 'AUC = %0.2f' % roc_auc)\n",
    "    plt.legend(loc = 'lower right')\n",
    "    plt.plot([0, 1], [0, 1],'r--')\n",
    "    plt.xlim([0, 1])\n",
    "    plt.ylim([0, 1])\n",
    "    plt.ylabel('True Positive Rate')\n",
    "    plt.xlabel('False Positive Rate')\n",
    "    return plt\n"
   ]
  },
  {
   "cell_type": "code",
   "execution_count": 37,
   "metadata": {},
   "outputs": [
    {
     "data": {
      "text/plain": [
       "<module 'matplotlib.pyplot' from '/Applications/anaconda/lib/python2.7/site-packages/matplotlib/pyplot.pyc'>"
      ]
     },
     "execution_count": 37,
     "metadata": {},
     "output_type": "execute_result"
    },
    {
     "data": {
      "image/png": "[encoded data removed]",
      "text/plain": [
       "<matplotlib.figure.Figure at 0x11861cb50>"
      ]
     },
     "metadata": {},
     "output_type": "display_data"
    }
   ],
   "source": [
    "plot_ROC(lg_clf, \"Logistic Regression\", Xtest, y_test)"
   ]
  },
  {
   "cell_type": "code",
   "execution_count": 38,
   "metadata": {
    "collapsed": true
   },
   "outputs": [],
   "source": [
    "def plot_confusion_matrix(cm, classes,\n",
    "                          normalize=False,\n",
    "                          title='Confusion matrix',\n",
    "                          cmap=plt.cm.Blues):\n",
    "    \"\"\"\n",
    "    This function prints and plots the confusion matrix.\n",
    "    Normalization can be applied by setting `normalize=True`.\n",
    "    \"\"\"\n",
    "    plt.figure(figsize=(5,5))\n",
    "    plt.rcParams.update({'font.size': 20})\n",
    "    plt.imshow(cm, interpolation='nearest', cmap=cmap)\n",
    "    plt.title(title)\n",
    "    tick_marks = np.arange(len(classes))\n",
    "    plt.xticks(tick_marks, classes, rotation=45)\n",
    "    plt.yticks(tick_marks, classes)\n",
    "\n",
    "    if normalize:\n",
    "        cm = cm.astype('float') / cm.sum(axis=1)[:, np.newaxis]\n",
    "        print(\"Normalized confusion matrix\")\n",
    "    else:\n",
    "        print('Confusion matrix, without normalization')\n",
    "\n",
    "    print(cm)\n",
    "\n",
    "    thresh = cm.max() / 2.\n",
    "    for i, j in itertools.product(range(cm.shape[0]), range(cm.shape[1])):\n",
    "        plt.text(j, i, cm[i, j],\n",
    "                 horizontalalignment=\"center\",\n",
    "                 color=\"white\" if cm[i, j] > thresh else \"black\")\n",
    "\n",
    "    plt.tight_layout()\n",
    "    plt.ylabel('True label')\n",
    "    plt.xlabel('Predicted label')\n",
    "    return plt"
   ]
  },
  {
   "cell_type": "code",
   "execution_count": 39,
   "metadata": {},
   "outputs": [
    {
     "name": "stdout",
     "output_type": "stream",
     "text": [
      "Confusion matrix, without normalization\n",
      "[[784 311]\n",
      " [425 485]]\n"
     ]
    },
    {
     "data": {
      "text/plain": [
       "<module 'matplotlib.pyplot' from '/Applications/anaconda/lib/python2.7/site-packages/matplotlib/pyplot.pyc'>"
      ]
     },
     "execution_count": 39,
     "metadata": {},
     "output_type": "execute_result"
    },
    {
     "data": {
      "image/png": "[encoded data removed]",
      "text/plain": [
       "<matplotlib.figure.Figure at 0x113122b10>"
      ]
     },
     "metadata": {},
     "output_type": "display_data"
    }
   ],
   "source": [
    "\n",
    "labels = [0, 1]\n",
    "cm = confusion_matrix(y_test, y_pred, labels)    \n",
    "plot_confusion_matrix(cm, classes=['Female','Male'])"
   ]
  },
  {
   "cell_type": "code",
   "execution_count": null,
   "metadata": {},
   "outputs": [],
   "source": []
  },
  {
   "cell_type": "code",
   "execution_count": 40,
   "metadata": {
    "collapsed": true
   },
   "outputs": [],
   "source": [
    "def word_cloud_generator(model, TF_model, Num_feature ):\n",
    "\n",
    "    coef = model.coef_.ravel()\n",
    "    feature_names = TF_model.get_feature_names()\n",
    "    top_positive_coefficients = np.argsort(coef)[-Num_feature:]\n",
    "    top_negative_coefficients = np.argsort(coef)[:Num_feature]\n",
    "    top_coefficients = np.hstack([top_negative_coefficients, top_positive_coefficients])\n",
    "\n",
    "    cnt_pos = Counter()\n",
    "    cnt_neg = Counter()\n",
    "    for i in range(0,Num_feature):\n",
    "        cnt_pos[feature_names[top_positive_coefficients[i]]] =coef[top_positive_coefficients[i]]*1000\n",
    "        cnt_neg[feature_names[top_negative_coefficients[i]]] =coef[top_negative_coefficients[i]]*1000\n",
    "\n",
    "    wordcloud_pos = WordCloud(background_color=\"black\",width=800,height=600).generate_from_frequencies(cnt_pos)\n",
    "    wordcloud_neg = WordCloud(background_color=\"white\",width=800,height=600).generate_from_frequencies(cnt_neg)\n",
    "    wordcloud_pos.to_file('positive.jpg')\n",
    "    wordcloud_neg.to_file('negative.jpg')\n",
    "    \n",
    "    \n",
    "\n",
    "\n",
    "word_cloud_generator(lg_clf,TF,500)"
   ]
  },
  {
   "cell_type": "code",
   "execution_count": 41,
   "metadata": {},
   "outputs": [],
   "source": [
    "\n",
    "\n",
    "\n",
    "def getTweets(keyword):\n",
    "\n",
    "    searchQuery = keyword\n",
    "    maxTweets = 200 # maximum number of tweets to collect. \n",
    "    tweetsPerQuery = 100 # number of tweets to fetch per query\n",
    "    max_id = 19999983021845213196288 # a big id that all tweets consider before this\n",
    "    sinceId = None # We want to collect all possible. So set to None.\n",
    "    PrmL = []\n",
    "    namesL = [] # list of users' names so far\n",
    "    tweetCount = 0\n",
    "    while tweetCount < maxTweets:\n",
    "        try:\n",
    "            \n",
    "            if (not sinceId):\n",
    "                new_tweets = api.search(q = searchQuery,count=tweetsPerQuery,\n",
    "                                        max_id=str(max_id-1),lang= 'en')\n",
    "            else:\n",
    "                new_tweets = api.search(q = searchQuery,count=tweetsPerQuery,\n",
    "                                        max_id=str(max_id-1),since_Id=sinceId,lang= 'en')\n",
    "            \n",
    "            if not new_tweets:\n",
    "                # there is no more tweets\n",
    "                break\n",
    "            for tweet in new_tweets: \n",
    "                # not consider the retweets and also tweets from same ID\n",
    "                if 'retweeted_status' not in tweet._json.keys()and tweet._json['user']['screen_name'] not in namesL :\n",
    "                    \n",
    "                    tw = tweet._json['text']\n",
    "                    user_id = tweet._json['id']\n",
    "                    screenName = tweet._json['user']['screen_name']\n",
    "                    name = tweet._json['user']['name']\n",
    "                    namesL.append(screenName)\n",
    "                    PrmL.append([tw,user_id,screenName,name])\n",
    "                    tweetCount += 1\n",
    "    \n",
    "            max_id = new_tweets[-1].id\n",
    "        except tweepy.TweepError as e:\n",
    "            print (\"ERROR :\" + str(e))\n",
    "            break\n",
    "    tweetsDF = pd.DataFrame(PrmL,columns={'tweet','id','screen_name','name'}) \n",
    "    return tweetsDF\n",
    "               "
   ]
  },
  {
   "cell_type": "code",
   "execution_count": 52,
   "metadata": {},
   "outputs": [],
   "source": [
    "def genDetect(keyword,clf_model,TF,sent_analyzer):        \n",
    "    \n",
    "    \n",
    "    kw_tweets = getTweets(keyword)\n",
    "    if len(kw_tweets)> 0 : \n",
    "        kw_tweets['pol'] = kw_tweets['tweet'].apply(lambda x:sent_analyzer.polarity_scores(x)['compound'])\n",
    "        kw_tweets['words'] = kw_tweets['tweet'].apply(no_of_word)\n",
    "\n",
    "\n",
    "        tw_tf = TF.transform(temp['tweet'])\n",
    "        tw_other = kw_tweets[['pol','words']]\n",
    "        tw = sparse.hstack([tw_tf, tw_other])\n",
    "        y_pred = clf_model.predict(tw)\n",
    "        return [100.*float(\"{0:0.3f}\".format(float(sum(y_pred))/len(y_pred))),len(y_pred)]\n",
    "    else:\n",
    "        return [0,0]\n",
    "    \n"
   ]
  },
  {
   "cell_type": "code",
   "execution_count": 53,
   "metadata": {},
   "outputs": [],
   "source": [
    "def tweet_output(keyword,clf_model,TF,sent_analyzer):\n",
    "    result,num = genDetect(keyword,clf_model,TF,sent_analyzer)\n",
    "    if result != 0 :            \n",
    "        \n",
    "        labels = [\"Female\", \"Male\"] \n",
    "        sizes = [100-result, result]\n",
    "        color = ['red','blue']\n",
    "        explode = (0, 0.1)  # only \"explode\" the 2nd slice \n",
    "        plt.rcParams.update({'font.size': 12})\n",
    "        plt.pie(sizes, explode=explode, labels=labels, autopct='%1.1f%%',\n",
    "            shadow=True, startangle=360, colors = color)\n",
    "        plt.axis('equal') \n",
    "        return plt\n"
   ]
  },
  {
   "cell_type": "code",
   "execution_count": null,
   "metadata": {},
   "outputs": [],
   "source": [
    "tweet_output('Trump',lg_clf,TF,sid)"
   ]
  },
  {
   "cell_type": "code",
   "execution_count": null,
   "metadata": {
    "collapsed": true
   },
   "outputs": [],
   "source": []
  }
 ],
 "metadata": {
  "kernelspec": {
   "display_name": "Python 2",
   "language": "python",
   "name": "python2"
  },
  "language_info": {
   "codemirror_mode": {
    "name": "ipython",
    "version": 2
   },
   "file_extension": ".py",
   "mimetype": "text/x-python",
   "name": "python",
   "nbconvert_exporter": "python",
   "pygments_lexer": "ipython2",
   "version": "2.7.13"
  }
 },
 "nbformat": 4,
 "nbformat_minor": 2
}
